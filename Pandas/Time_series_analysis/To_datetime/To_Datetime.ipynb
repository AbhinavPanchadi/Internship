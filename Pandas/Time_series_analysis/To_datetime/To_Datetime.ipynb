{
 "cells": [
  {
   "cell_type": "code",
   "execution_count": 4,
   "id": "a1c5e1f6-25d9-42df-b183-e29deb9b9b47",
   "metadata": {},
   "outputs": [
    {
     "data": {
      "text/plain": [
       "DatetimeIndex(['2017-01-05', '2017-01-05', '2017-01-05', '2017-01-05',\n",
       "               '2017-01-05', '2017-01-05'],\n",
       "              dtype='datetime64[ns]', freq=None)"
      ]
     },
     "execution_count": 4,
     "metadata": {},
     "output_type": "execute_result"
    }
   ],
   "source": [
    "import pandas as pd\n",
    "dates=['2017-01-05', 'Jan 5, 2017', '01/05/2017', '2017.01.05', '2017/01/05','20170105']\n",
    "pd.to_datetime(dates,format='mixed')"
   ]
  },
  {
   "cell_type": "markdown",
   "id": "0969b43c-88f0-479c-a3de-0a30a8ee7dbb",
   "metadata": {},
   "source": [
    "### for US : mm/dd/yyyy, for Europe : dd/mm/yyyy"
   ]
  },
  {
   "cell_type": "code",
   "execution_count": 7,
   "id": "5ee681fe-36c5-49d8-aa8f-42460b23bdc2",
   "metadata": {},
   "outputs": [
    {
     "data": {
      "text/plain": [
       "Timestamp('2025-05-01 00:00:00')"
      ]
     },
     "execution_count": 7,
     "metadata": {},
     "output_type": "execute_result"
    }
   ],
   "source": [
    "pd.to_datetime('5/1/2025') # i am performing action as 5th jan, but the to_datetime() takes mm/dd/yyyy format"
   ]
  },
  {
   "cell_type": "code",
   "execution_count": 9,
   "id": "da8d0f9a-5639-4144-9f34-9e065fc4bb51",
   "metadata": {},
   "outputs": [
    {
     "data": {
      "text/plain": [
       "Timestamp('2025-01-05 00:00:00')"
      ]
     },
     "execution_count": 9,
     "metadata": {},
     "output_type": "execute_result"
    }
   ],
   "source": [
    "pd.to_datetime('5/1/2025',dayfirst=True) #to handle Europe dates"
   ]
  },
  {
   "cell_type": "markdown",
   "id": "14a6e96f-74ac-4d89-8423-3330e3c47ef2",
   "metadata": {},
   "source": [
    "#### custom date format"
   ]
  },
  {
   "cell_type": "code",
   "execution_count": 10,
   "id": "74719d15-7068-4107-9461-5022e0ae4244",
   "metadata": {},
   "outputs": [
    {
     "data": {
      "text/plain": [
       "Timestamp('2017-01-05 00:00:00')"
      ]
     },
     "execution_count": 10,
     "metadata": {},
     "output_type": "execute_result"
    }
   ],
   "source": [
    "pd.to_datetime('2017$01$05', format='%Y$%m$%d')"
   ]
  },
  {
   "cell_type": "markdown",
   "id": "3ea3fc88-b755-455d-acc1-73160fdff1e4",
   "metadata": {},
   "source": [
    "### Epoch or Unix time means number of seconds that have passed since Jan 1, 1970 00:00:00 UTC time"
   ]
  },
  {
   "cell_type": "code",
   "execution_count": 11,
   "id": "600ed694-1c33-4987-9696-e6e1fae8b0a9",
   "metadata": {},
   "outputs": [
    {
     "data": {
      "text/plain": [
       "Timestamp('2025-02-25 17:56:06')"
      ]
     },
     "execution_count": 11,
     "metadata": {},
     "output_type": "execute_result"
    }
   ],
   "source": [
    "current_epoch =  1740506166\n",
    "pd.to_datetime(current_epoch, unit='s')"
   ]
  },
  {
   "cell_type": "code",
   "execution_count": 12,
   "id": "a0ec00b4-3f7e-4d89-9c5f-0677e5e16940",
   "metadata": {},
   "outputs": [
    {
     "data": {
      "text/plain": [
       "Timestamp('2025-02-25 17:56:06')"
      ]
     },
     "execution_count": 12,
     "metadata": {},
     "output_type": "execute_result"
    }
   ],
   "source": [
    "pd.to_datetime(current_epoch*1000, unit='ms')"
   ]
  },
  {
   "cell_type": "code",
   "execution_count": 13,
   "id": "bcf64b81-a22f-4c95-951d-a7b0d01771d6",
   "metadata": {},
   "outputs": [
    {
     "data": {
      "text/plain": [
       "DatetimeIndex(['2025-02-25 17:56:06'], dtype='datetime64[ns]', freq=None)"
      ]
     },
     "execution_count": 13,
     "metadata": {},
     "output_type": "execute_result"
    }
   ],
   "source": [
    "t = pd.to_datetime([current_epoch], unit='s')\n",
    "t"
   ]
  },
  {
   "cell_type": "code",
   "execution_count": 14,
   "id": "dd55bb04-8f73-4e52-bc9a-4a064da8fc37",
   "metadata": {},
   "outputs": [
    {
     "data": {
      "text/plain": [
       "array([1740506166000000000])"
      ]
     },
     "execution_count": 14,
     "metadata": {},
     "output_type": "execute_result"
    }
   ],
   "source": [
    "t.view('int64')"
   ]
  }
 ],
 "metadata": {
  "kernelspec": {
   "display_name": "Python 3 (ipykernel)",
   "language": "python",
   "name": "python3"
  },
  "language_info": {
   "codemirror_mode": {
    "name": "ipython",
    "version": 3
   },
   "file_extension": ".py",
   "mimetype": "text/x-python",
   "name": "python",
   "nbconvert_exporter": "python",
   "pygments_lexer": "ipython3",
   "version": "3.13.0"
  }
 },
 "nbformat": 4,
 "nbformat_minor": 5
}
