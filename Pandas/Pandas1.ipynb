{
 "cells": [
  {
   "cell_type": "markdown",
   "id": "04a25223-4c5a-4f96-8cae-6cc2c3a31cb6",
   "metadata": {},
   "source": [
    "<h1 style=\"text-align: center;\">SERIES STRUCTURE IN PANDAS LIBRARY</h1>\n"
   ]
  },
  {
   "cell_type": "code",
   "execution_count": null,
   "id": "2cf553ac-1833-4aca-9a6a-46a71303cc36",
   "metadata": {
    "scrolled": true
   },
   "outputs": [
    {
     "name": "stdout",
     "output_type": "stream",
     "text": [
      "Collecting pandas\n",
      "  Using cached pandas-2.2.3-cp313-cp313-win_amd64.whl.metadata (19 kB)\n",
      "Collecting numpy>=1.26.0 (from pandas)\n",
      "  Downloading numpy-2.2.2-cp313-cp313-win_amd64.whl.metadata (60 kB)\n",
      "Requirement already satisfied: python-dateutil>=2.8.2 in c:\\users\\abhinav\\appdata\\local\\programs\\python\\python313\\lib\\site-packages (from pandas) (2.9.0.post0)\n",
      "Collecting pytz>=2020.1 (from pandas)\n",
      "  Downloading pytz-2025.1-py2.py3-none-any.whl.metadata (22 kB)\n",
      "Collecting tzdata>=2022.7 (from pandas)\n",
      "  Downloading tzdata-2025.1-py2.py3-none-any.whl.metadata (1.4 kB)\n",
      "Requirement already satisfied: six>=1.5 in c:\\users\\abhinav\\appdata\\local\\programs\\python\\python313\\lib\\site-packages (from python-dateutil>=2.8.2->pandas) (1.17.0)\n",
      "Using cached pandas-2.2.3-cp313-cp313-win_amd64.whl (11.5 MB)\n",
      "Downloading numpy-2.2.2-cp313-cp313-win_amd64.whl (12.6 MB)\n",
      "   ---------------------------------------- 0.0/12.6 MB ? eta -:--:--\n",
      "    --------------------------------------- 0.3/12.6 MB ? eta -:--:--\n",
      "   - -------------------------------------- 0.5/12.6 MB 978.1 kB/s eta 0:00:13\n",
      "   -- ------------------------------------- 0.8/12.6 MB 1.3 MB/s eta 0:00:10\n",
      "   --- ------------------------------------ 1.0/12.6 MB 1.3 MB/s eta 0:00:10\n",
      "   ---- ----------------------------------- 1.3/12.6 MB 1.2 MB/s eta 0:00:10\n",
      "   ---- ----------------------------------- 1.6/12.6 MB 1.3 MB/s eta 0:00:09\n",
      "   ----- ---------------------------------- 1.8/12.6 MB 1.3 MB/s eta 0:00:09\n",
      "   ------ --------------------------------- 2.1/12.6 MB 1.3 MB/s eta 0:00:09\n",
      "   ------- -------------------------------- 2.4/12.6 MB 1.3 MB/s eta 0:00:08\n",
      "   -------- ------------------------------- 2.6/12.6 MB 1.3 MB/s eta 0:00:08\n",
      "   --------- ------------------------------ 2.9/12.6 MB 1.3 MB/s eta 0:00:08\n",
      "   --------- ------------------------------ 3.1/12.6 MB 1.3 MB/s eta 0:00:08\n",
      "   ---------- ----------------------------- 3.4/12.6 MB 1.3 MB/s eta 0:00:08\n",
      "   ----------- ---------------------------- 3.7/12.6 MB 1.3 MB/s eta 0:00:07\n",
      "   ------------ --------------------------- 3.9/12.6 MB 1.3 MB/s eta 0:00:07\n",
      "   ------------- -------------------------- 4.2/12.6 MB 1.3 MB/s eta 0:00:07\n",
      "   -------------- ------------------------- 4.5/12.6 MB 1.3 MB/s eta 0:00:07\n",
      "   -------------- ------------------------- 4.7/12.6 MB 1.3 MB/s eta 0:00:07\n",
      "   --------------- ------------------------ 5.0/12.6 MB 1.3 MB/s eta 0:00:06\n",
      "   ---------------- ----------------------- 5.2/12.6 MB 1.3 MB/s eta 0:00:06\n",
      "   ----------------- ---------------------- 5.5/12.6 MB 1.3 MB/s eta 0:00:06\n",
      "   ------------------ --------------------- 5.8/12.6 MB 1.3 MB/s eta 0:00:06\n",
      "   ------------------- -------------------- 6.3/12.6 MB 1.3 MB/s eta 0:00:05\n",
      "   -------------------- ------------------- 6.6/12.6 MB 1.3 MB/s eta 0:00:05\n",
      "   --------------------- ------------------ 6.8/12.6 MB 1.3 MB/s eta 0:00:05\n",
      "   ---------------------- ----------------- 7.1/12.6 MB 1.3 MB/s eta 0:00:05\n",
      "   ----------------------- ---------------- 7.3/12.6 MB 1.3 MB/s eta 0:00:05\n",
      "   ------------------------ --------------- 7.6/12.6 MB 1.3 MB/s eta 0:00:04\n",
      "   ------------------------ --------------- 7.9/12.6 MB 1.3 MB/s eta 0:00:04\n",
      "   ------------------------- -------------- 8.1/12.6 MB 1.3 MB/s eta 0:00:04\n",
      "   -------------------------- ------------- 8.4/12.6 MB 1.3 MB/s eta 0:00:04\n",
      "   --------------------------- ------------ 8.7/12.6 MB 1.3 MB/s eta 0:00:04\n",
      "   ---------------------------- ----------- 8.9/12.6 MB 1.3 MB/s eta 0:00:03\n",
      "   ----------------------------- ---------- 9.2/12.6 MB 1.3 MB/s eta 0:00:03\n",
      "   ----------------------------- ---------- 9.4/12.6 MB 1.3 MB/s eta 0:00:03\n",
      "   ------------------------------ --------- 9.7/12.6 MB 1.3 MB/s eta 0:00:03\n",
      "   ------------------------------- -------- 10.0/12.6 MB 1.3 MB/s eta 0:00:03\n",
      "   -------------------------------- ------- 10.2/12.6 MB 1.3 MB/s eta 0:00:02\n",
      "   --------------------------------- ------ 10.5/12.6 MB 1.3 MB/s eta 0:00:02\n",
      "   ---------------------------------- ----- 10.7/12.6 MB 1.3 MB/s eta 0:00:02\n",
      "   ---------------------------------- ----- 11.0/12.6 MB 1.3 MB/s eta 0:00:02\n",
      "   ----------------------------------- ---- 11.3/12.6 MB 1.3 MB/s eta 0:00:02\n",
      "   ------------------------------------ --- 11.5/12.6 MB 1.3 MB/s eta 0:00:01\n",
      "   ------------------------------------- -- 11.8/12.6 MB 1.3 MB/s eta 0:00:01\n",
      "   -------------------------------------- - 12.1/12.6 MB 1.3 MB/s eta 0:00:01\n",
      "   ---------------------------------------  12.3/12.6 MB 1.3 MB/s eta 0:00:01\n",
      "   ---------------------------------------- 12.6/12.6 MB 1.3 MB/s eta 0:00:00\n",
      "Downloading pytz-2025.1-py2.py3-none-any.whl (507 kB)\n",
      "Downloading tzdata-2025.1-py2.py3-none-any.whl (346 kB)\n",
      "Installing collected packages: pytz, tzdata, numpy, pandas\n",
      "Successfully installed numpy-2.2.2 pandas-2.2.3 pytz-2025.1 tzdata-2025.1\n",
      "Note: you may need to restart the kernel to use updated packages.\n"
     ]
    },
    {
     "name": "stderr",
     "output_type": "stream",
     "text": [
      "\n",
      "[notice] A new release of pip is available: 24.2 -> 25.0.1\n",
      "[notice] To update, run: python.exe -m pip install --upgrade pip\n"
     ]
    }
   ],
   "source": [
    "pip install pandas"
   ]
  },
  {
   "cell_type": "markdown",
   "id": "cb1b7325-9b31-4c39-87b4-4a4b522ba79d",
   "metadata": {},
   "source": [
    "## CREATING PANDAS SERIES WITH A LIST "
   ]
  },
  {
   "cell_type": "code",
   "execution_count": null,
   "id": "cd5edcbc-155f-4f6f-b570-a578bd48b9b9",
   "metadata": {},
   "outputs": [],
   "source": [
    "import pandas as pd"
   ]
  },
  {
   "cell_type": "code",
   "execution_count": null,
   "id": "f6ad895c-422f-41ad-b0d0-d15ee8e954fd",
   "metadata": {},
   "outputs": [
    {
     "data": {
      "text/plain": [
       "0    10\n",
       "1    20\n",
       "2    30\n",
       "3    40\n",
       "4    50\n",
       "dtype: int64"
      ]
     },
     "execution_count": 7,
     "metadata": {},
     "output_type": "execute_result"
    }
   ],
   "source": [
    "pd.Series([10,20,30,40,50])"
   ]
  },
  {
   "cell_type": "code",
   "execution_count": null,
   "id": "31f9970e-7109-4230-8876-5aab22985211",
   "metadata": {},
   "outputs": [],
   "source": [
    "list_data=[2,4,6,8,10]\n",
    "list_index=[\"a\",\"b\",\"c\",\"d\",\"e\"]"
   ]
  },
  {
   "cell_type": "code",
   "execution_count": null,
   "id": "7764de52-be7a-4879-bbc4-5703ac6d7390",
   "metadata": {},
   "outputs": [],
   "source": [
    "variable=pd.Series(data=list_data, index=list_index, dtype=\"float\")"
   ]
  },
  {
   "cell_type": "code",
   "execution_count": null,
   "id": "96934a99-ab6d-4a9d-9321-2071b6f8b78c",
   "metadata": {},
   "outputs": [
    {
     "data": {
      "text/plain": [
       "a     2.0\n",
       "b     4.0\n",
       "c     6.0\n",
       "d     8.0\n",
       "e    10.0\n",
       "dtype: float64"
      ]
     },
     "execution_count": 10,
     "metadata": {},
     "output_type": "execute_result"
    }
   ],
   "source": [
    "variable"
   ]
  },
  {
   "cell_type": "code",
   "execution_count": null,
   "id": "614a8be8-9d6a-4f49-ab7e-eb944908aa3f",
   "metadata": {},
   "outputs": [
    {
     "data": {
      "text/plain": [
       "pandas.core.series.Series"
      ]
     },
     "execution_count": 11,
     "metadata": {},
     "output_type": "execute_result"
    }
   ],
   "source": [
    "type(variable)"
   ]
  },
  {
   "cell_type": "markdown",
   "id": "f009f8ae-91fd-4bea-876b-7c5812fa1c4c",
   "metadata": {},
   "source": [
    "## CREATING PANDAS SERIES USING A DICTIONARY"
   ]
  },
  {
   "cell_type": "code",
   "execution_count": null,
   "id": "e9d93afd-cc21-47de-9f36-112fa5432718",
   "metadata": {},
   "outputs": [],
   "source": [
    "dictionary={\"ferrari\":220,\"lambo\":260,\"bugatti\":300}"
   ]
  },
  {
   "cell_type": "code",
   "execution_count": null,
   "id": "e6e1ad44-bccf-450a-9e8f-b0381d9155f0",
   "metadata": {},
   "outputs": [
    {
     "data": {
      "text/plain": [
       "ferrari    220\n",
       "lambo      260\n",
       "bugatti    300\n",
       "dtype: int64"
      ]
     },
     "execution_count": 13,
     "metadata": {},
     "output_type": "execute_result"
    }
   ],
   "source": [
    "pd.Series(data=dictionary)"
   ]
  },
  {
   "cell_type": "code",
   "execution_count": null,
   "id": "53e6151d-1e3a-46ee-86b7-92418de61916",
   "metadata": {},
   "outputs": [],
   "source": [
    "variable=pd.Series(data=dictionary,index=[\"ferrari\",\"BMW\",\"lambo\"])"
   ]
  },
  {
   "cell_type": "code",
   "execution_count": null,
   "id": "d71c384c-b37d-4efd-bd67-48a5576b8cdd",
   "metadata": {},
   "outputs": [
    {
     "data": {
      "text/plain": [
       "ferrari    220.0\n",
       "BMW          NaN\n",
       "lambo      260.0\n",
       "dtype: float64"
      ]
     },
     "execution_count": 15,
     "metadata": {},
     "output_type": "execute_result"
    }
   ],
   "source": [
    "variable"
   ]
  },
  {
   "cell_type": "markdown",
   "id": "b3b8a6cb-e0a4-4779-aa6a-58c099687bef",
   "metadata": {},
   "source": [
    "## CREATING A PANDAS SERIES USING NUMPY ARRAY"
   ]
  },
  {
   "cell_type": "code",
   "execution_count": null,
   "id": "22fe1816-c539-4a29-a226-c4a47bb2f531",
   "metadata": {},
   "outputs": [],
   "source": [
    "import numpy as np"
   ]
  },
  {
   "cell_type": "code",
   "execution_count": null,
   "id": "00e5dd2e-9112-4767-a08b-73a6461fe916",
   "metadata": {},
   "outputs": [],
   "source": [
    "example=np.array([1,2,3,4,5])\n",
    "labels=np.array([\"a\",\"b\",\"c\",\"d\",\"e\"])"
   ]
  },
  {
   "cell_type": "code",
   "execution_count": null,
   "id": "2caf0d17-ac7e-4d84-9c85-f60b6c84a010",
   "metadata": {},
   "outputs": [],
   "source": [
    "variable=pd.Series(data=example,index=labels)"
   ]
  },
  {
   "cell_type": "code",
   "execution_count": null,
   "id": "0ffc4d4d-cf6f-456f-805d-5efe77746b66",
   "metadata": {},
   "outputs": [
    {
     "data": {
      "text/plain": [
       "a    1\n",
       "b    2\n",
       "c    3\n",
       "d    4\n",
       "e    5\n",
       "dtype: int64"
      ]
     },
     "execution_count": 19,
     "metadata": {},
     "output_type": "execute_result"
    }
   ],
   "source": [
    "variable"
   ]
  },
  {
   "cell_type": "markdown",
   "id": "145522f5-f2a6-4b56-83ad-33713c98e75e",
   "metadata": {},
   "source": [
    "## EXAMINING THE PRIMARY FEATURES OF PANDAS SERIES"
   ]
  },
  {
   "cell_type": "code",
   "execution_count": null,
   "id": "f5416fb5-e671-4733-8297-043ee29a0ea0",
   "metadata": {},
   "outputs": [],
   "source": [
    "example=pd.Series([10,20,30,40,50,60])"
   ]
  },
  {
   "cell_type": "code",
   "execution_count": null,
   "id": "0d99fa94-06ea-4e41-8ec8-e4d58de6d666",
   "metadata": {},
   "outputs": [
    {
     "data": {
      "text/plain": [
       "0    10\n",
       "1    20\n",
       "2    30\n",
       "3    40\n",
       "4    50\n",
       "5    60\n",
       "dtype: int64"
      ]
     },
     "execution_count": 22,
     "metadata": {},
     "output_type": "execute_result"
    }
   ],
   "source": [
    "example\n"
   ]
  },
  {
   "cell_type": "code",
   "execution_count": null,
   "id": "178e5b75-b3f6-49a2-bebb-3df3a44f00f8",
   "metadata": {},
   "outputs": [
    {
     "data": {
      "text/plain": [
       "[RangeIndex(start=0, stop=6, step=1)]"
      ]
     },
     "execution_count": 24,
     "metadata": {},
     "output_type": "execute_result"
    }
   ],
   "source": [
    "example.axes"
   ]
  },
  {
   "cell_type": "code",
   "execution_count": null,
   "id": "8a363660-d820-4872-8764-c7c6731ff989",
   "metadata": {},
   "outputs": [
    {
     "data": {
      "text/plain": [
       "dtype('int64')"
      ]
     },
     "execution_count": 25,
     "metadata": {},
     "output_type": "execute_result"
    }
   ],
   "source": [
    "example.dtype"
   ]
  },
  {
   "cell_type": "code",
   "execution_count": null,
   "id": "1073c245-449c-4c5a-a103-83da822aff00",
   "metadata": {},
   "outputs": [
    {
     "data": {
      "text/plain": [
       "6"
      ]
     },
     "execution_count": 26,
     "metadata": {},
     "output_type": "execute_result"
    }
   ],
   "source": [
    "example.size"
   ]
  },
  {
   "cell_type": "code",
   "execution_count": null,
   "id": "124478d1-eb08-40dc-bb48-afa919d4861f",
   "metadata": {},
   "outputs": [
    {
     "data": {
      "text/plain": [
       "0    10\n",
       "1    20\n",
       "2    30\n",
       "3    40\n",
       "4    50\n",
       "dtype: int64"
      ]
     },
     "execution_count": 28,
     "metadata": {},
     "output_type": "execute_result"
    }
   ],
   "source": [
    "example.head()  #returns first 5 values of series"
   ]
  },
  {
   "cell_type": "code",
   "execution_count": null,
   "id": "33f012a6-7e17-44cb-926b-fdee0da93a31",
   "metadata": {},
   "outputs": [
    {
     "data": {
      "text/plain": [
       "0    10\n",
       "1    20\n",
       "2    30\n",
       "dtype: int64"
      ]
     },
     "execution_count": 29,
     "metadata": {},
     "output_type": "execute_result"
    }
   ],
   "source": [
    "example.head(3)"
   ]
  },
  {
   "cell_type": "code",
   "execution_count": null,
   "id": "2bd58347-ec09-4b15-be2f-0a2024a7650a",
   "metadata": {},
   "outputs": [
    {
     "data": {
      "text/plain": [
       "1    20\n",
       "2    30\n",
       "3    40\n",
       "4    50\n",
       "5    60\n",
       "dtype: int64"
      ]
     },
     "execution_count": 30,
     "metadata": {},
     "output_type": "execute_result"
    }
   ],
   "source": [
    "example.tail()"
   ]
  },
  {
   "cell_type": "code",
   "execution_count": null,
   "id": "c6c9929d-a990-45eb-82c0-75b2904d12d6",
   "metadata": {},
   "outputs": [
    {
     "data": {
      "text/plain": [
       "4    50\n",
       "5    60\n",
       "dtype: int64"
      ]
     },
     "execution_count": 31,
     "metadata": {},
     "output_type": "execute_result"
    }
   ],
   "source": [
    "example.tail(2)"
   ]
  },
  {
   "cell_type": "markdown",
   "id": "c1ac753a-296d-4de8-a20f-5c701cab5b54",
   "metadata": {},
   "source": [
    "## MOST APPLIED METHODS IN PANDAS "
   ]
  },
  {
   "cell_type": "code",
   "execution_count": null,
   "id": "559efe9d-6867-4bc3-9b08-0484f97ccb80",
   "metadata": {},
   "outputs": [],
   "source": [
    "variable=pd.Series([61,32,23,74,55,16],index=[\"c\",\"b\",\"e\",\"d\",\"f\",\"a\"])"
   ]
  },
  {
   "cell_type": "code",
   "execution_count": null,
   "id": "dd59cbf3-81d2-4dce-a013-8e9e0f6d5358",
   "metadata": {},
   "outputs": [
    {
     "data": {
      "text/plain": [
       "c    61\n",
       "b    32\n",
       "e    23\n",
       "d    74\n",
       "f    55\n",
       "a    16\n",
       "dtype: int64"
      ]
     },
     "execution_count": 40,
     "metadata": {},
     "output_type": "execute_result"
    }
   ],
   "source": [
    "variable\n"
   ]
  },
  {
   "cell_type": "code",
   "execution_count": null,
   "id": "15976e98-2f04-4102-a0bd-3d581a79b6c0",
   "metadata": {},
   "outputs": [],
   "source": [
    "new=variable.sort_index()"
   ]
  },
  {
   "cell_type": "code",
   "execution_count": null,
   "id": "36f471fb-2231-4f8a-a2e3-472e92be616b",
   "metadata": {},
   "outputs": [
    {
     "data": {
      "text/plain": [
       "a    16\n",
       "b    32\n",
       "c    61\n",
       "d    74\n",
       "e    23\n",
       "f    55\n",
       "dtype: int64"
      ]
     },
     "execution_count": 42,
     "metadata": {},
     "output_type": "execute_result"
    }
   ],
   "source": [
    "new\n"
   ]
  },
  {
   "cell_type": "code",
   "execution_count": null,
   "id": "68e4abb1-341a-458e-88b9-494ed7d3ada8",
   "metadata": {},
   "outputs": [],
   "source": [
    "new_2=variable.sort_values()"
   ]
  },
  {
   "cell_type": "code",
   "execution_count": null,
   "id": "fa538cf4-fd80-48e0-9a8e-f1ba680f653b",
   "metadata": {},
   "outputs": [
    {
     "data": {
      "text/plain": [
       "a    16\n",
       "e    23\n",
       "b    32\n",
       "f    55\n",
       "c    61\n",
       "d    74\n",
       "dtype: int64"
      ]
     },
     "execution_count": 45,
     "metadata": {},
     "output_type": "execute_result"
    }
   ],
   "source": [
    "new_2\n"
   ]
  },
  {
   "cell_type": "code",
   "execution_count": null,
   "id": "4dd2efc9-af4b-4020-a7a9-eeae8009fe9c",
   "metadata": {},
   "outputs": [
    {
     "data": {
      "text/plain": [
       "c     True\n",
       "b    False\n",
       "e    False\n",
       "d     True\n",
       "f    False\n",
       "a    False\n",
       "dtype: bool"
      ]
     },
     "execution_count": 49,
     "metadata": {},
     "output_type": "execute_result"
    }
   ],
   "source": [
    "variable.isin([74,61])"
   ]
  },
  {
   "cell_type": "code",
   "execution_count": null,
   "id": "96c208d9-1d98-4fe3-9a6c-08e9abd50273",
   "metadata": {},
   "outputs": [
    {
     "data": {
      "text/plain": [
       "c    61\n",
       "d    74\n",
       "dtype: int64"
      ]
     },
     "execution_count": 50,
     "metadata": {},
     "output_type": "execute_result"
    }
   ],
   "source": [
    "variable[variable.isin([74,61])]"
   ]
  },
  {
   "cell_type": "code",
   "execution_count": null,
   "id": "fbeb64dd-f35d-4c3b-98c4-ee33dbec82e4",
   "metadata": {},
   "outputs": [
    {
     "data": {
      "text/plain": [
       "array([61, 32, 23, 74, 55, 16])"
      ]
     },
     "execution_count": 52,
     "metadata": {},
     "output_type": "execute_result"
    }
   ],
   "source": [
    "variable.values"
   ]
  },
  {
   "cell_type": "code",
   "execution_count": null,
   "id": "4fded52d-7ecd-4aab-9bda-76b99aec2a3d",
   "metadata": {},
   "outputs": [
    {
     "data": {
      "text/plain": [
       "[np.int64(61),\n",
       " np.int64(32),\n",
       " np.int64(23),\n",
       " np.int64(74),\n",
       " np.int64(55),\n",
       " np.int64(16)]"
      ]
     },
     "execution_count": 53,
     "metadata": {},
     "output_type": "execute_result"
    }
   ],
   "source": [
    "[i for i in variable.values]"
   ]
  },
  {
   "cell_type": "code",
   "execution_count": null,
   "id": "0171d3ce-6271-4813-a494-281c7626a45d",
   "metadata": {},
   "outputs": [
    {
     "data": {
      "text/plain": [
       "Index(['c', 'b', 'e', 'd', 'f', 'a'], dtype='object')"
      ]
     },
     "execution_count": 54,
     "metadata": {},
     "output_type": "execute_result"
    }
   ],
   "source": [
    "variable.index"
   ]
  },
  {
   "cell_type": "code",
   "execution_count": null,
   "id": "b0bd18d1-2637-4a8b-939b-361c5564c55c",
   "metadata": {},
   "outputs": [
    {
     "data": {
      "text/plain": [
       "['c', 'b', 'e', 'd', 'f', 'a']"
      ]
     },
     "execution_count": 56,
     "metadata": {},
     "output_type": "execute_result"
    }
   ],
   "source": [
    "[i for i in variable.index]"
   ]
  },
  {
   "cell_type": "code",
   "execution_count": null,
   "id": "4201b572-64c1-491b-8768-122b6b5ee956",
   "metadata": {},
   "outputs": [],
   "source": []
  }
 ],
 "metadata": {
  "kernelspec": {
   "display_name": "Python 3 (ipykernel)",
   "language": "python",
   "name": "python3"
  },
  "language_info": {
   "codemirror_mode": {
    "name": "ipython",
    "version": 3
   },
   "file_extension": ".py",
   "mimetype": "text/x-python",
   "name": "python",
   "nbconvert_exporter": "python",
   "pygments_lexer": "ipython3",
   "version": "3.13.0"
  }
 },
 "nbformat": 4,
 "nbformat_minor": 5
}
