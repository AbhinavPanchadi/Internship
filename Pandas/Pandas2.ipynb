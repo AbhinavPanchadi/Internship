{
 "cells": [
  {
   "cell_type": "markdown",
   "id": "64361789-989f-47b3-bfc7-c0a29604cc8a",
   "metadata": {},
   "source": [
    "## CREATING A DATAFRAME USING A LIST"
   ]
  },
  {
   "cell_type": "code",
   "execution_count": 1,
   "id": "24f699f6-05bc-4e58-801c-6267ac7138ee",
   "metadata": {},
   "outputs": [],
   "source": [
    "import pandas as pd"
   ]
  },
  {
   "cell_type": "code",
   "execution_count": 2,
   "id": "6454cecd-a2cf-4ee5-b68c-bd48edd5be59",
   "metadata": {},
   "outputs": [],
   "source": [
    "list_example=[10,20,30,40,50]"
   ]
  },
  {
   "cell_type": "code",
   "execution_count": 3,
   "id": "2745ce0a-cd5d-41ed-9590-efb0f55b8b17",
   "metadata": {},
   "outputs": [
    {
     "data": {
      "text/plain": [
       "[10, 20, 30, 40, 50]"
      ]
     },
     "execution_count": 3,
     "metadata": {},
     "output_type": "execute_result"
    }
   ],
   "source": [
    "list_example"
   ]
  },
  {
   "cell_type": "code",
   "execution_count": 4,
   "id": "b8fd7489-8281-4a4d-be03-74e75c60b8eb",
   "metadata": {},
   "outputs": [
    {
     "data": {
      "text/html": [
       "<div>\n",
       "<style scoped>\n",
       "    .dataframe tbody tr th:only-of-type {\n",
       "        vertical-align: middle;\n",
       "    }\n",
       "\n",
       "    .dataframe tbody tr th {\n",
       "        vertical-align: top;\n",
       "    }\n",
       "\n",
       "    .dataframe thead th {\n",
       "        text-align: right;\n",
       "    }\n",
       "</style>\n",
       "<table border=\"1\" class=\"dataframe\">\n",
       "  <thead>\n",
       "    <tr style=\"text-align: right;\">\n",
       "      <th></th>\n",
       "      <th>values</th>\n",
       "    </tr>\n",
       "  </thead>\n",
       "  <tbody>\n",
       "    <tr>\n",
       "      <th>0</th>\n",
       "      <td>10.0</td>\n",
       "    </tr>\n",
       "    <tr>\n",
       "      <th>1</th>\n",
       "      <td>20.0</td>\n",
       "    </tr>\n",
       "    <tr>\n",
       "      <th>2</th>\n",
       "      <td>30.0</td>\n",
       "    </tr>\n",
       "    <tr>\n",
       "      <th>3</th>\n",
       "      <td>40.0</td>\n",
       "    </tr>\n",
       "    <tr>\n",
       "      <th>4</th>\n",
       "      <td>50.0</td>\n",
       "    </tr>\n",
       "  </tbody>\n",
       "</table>\n",
       "</div>"
      ],
      "text/plain": [
       "   values\n",
       "0    10.0\n",
       "1    20.0\n",
       "2    30.0\n",
       "3    40.0\n",
       "4    50.0"
      ]
     },
     "execution_count": 4,
     "metadata": {},
     "output_type": "execute_result"
    }
   ],
   "source": [
    "pd.DataFrame(data=list_example,columns=['values'],dtype=\"float\")"
   ]
  },
  {
   "cell_type": "markdown",
   "id": "dfe942fa-fd3b-4066-a611-07a5c5ef1034",
   "metadata": {},
   "source": [
    "## CREATING A DATAFRAME USING NUMPY"
   ]
  },
  {
   "cell_type": "code",
   "execution_count": 5,
   "id": "06d78797-f9ef-40ad-9f9c-c7c41cea995e",
   "metadata": {},
   "outputs": [],
   "source": [
    "import numpy as np"
   ]
  },
  {
   "cell_type": "code",
   "execution_count": 6,
   "id": "350d7f42-a165-4f99-ba12-32db0ced8dcb",
   "metadata": {},
   "outputs": [],
   "source": [
    "array_example=np.random.randint(0,50,(4,4)) #generating random numbers with 4 rows and 4 columns"
   ]
  },
  {
   "cell_type": "code",
   "execution_count": 7,
   "id": "e35e3ddb-472b-470a-b763-84ffa2993e42",
   "metadata": {},
   "outputs": [
    {
     "data": {
      "text/plain": [
       "array([[34, 29, 11, 31],\n",
       "       [20, 34, 35,  2],\n",
       "       [27, 49, 14, 17],\n",
       "       [13, 48, 20, 10]], dtype=int32)"
      ]
     },
     "execution_count": 7,
     "metadata": {},
     "output_type": "execute_result"
    }
   ],
   "source": [
    "array_example"
   ]
  },
  {
   "cell_type": "code",
   "execution_count": 8,
   "id": "86bb192f-1d16-46ca-8c8f-2e32e6dfbadb",
   "metadata": {},
   "outputs": [],
   "source": [
    "df=pd.DataFrame(data=array_example,index=[\"a\",\"b\",\"c\",\"d\"],columns=[\"val1\",\"val2\",\"val3\",\"val4\"])"
   ]
  },
  {
   "cell_type": "code",
   "execution_count": 9,
   "id": "fd852918-df28-4183-8783-1228e323f56c",
   "metadata": {},
   "outputs": [
    {
     "data": {
      "text/html": [
       "<div>\n",
       "<style scoped>\n",
       "    .dataframe tbody tr th:only-of-type {\n",
       "        vertical-align: middle;\n",
       "    }\n",
       "\n",
       "    .dataframe tbody tr th {\n",
       "        vertical-align: top;\n",
       "    }\n",
       "\n",
       "    .dataframe thead th {\n",
       "        text-align: right;\n",
       "    }\n",
       "</style>\n",
       "<table border=\"1\" class=\"dataframe\">\n",
       "  <thead>\n",
       "    <tr style=\"text-align: right;\">\n",
       "      <th></th>\n",
       "      <th>val1</th>\n",
       "      <th>val2</th>\n",
       "      <th>val3</th>\n",
       "      <th>val4</th>\n",
       "    </tr>\n",
       "  </thead>\n",
       "  <tbody>\n",
       "    <tr>\n",
       "      <th>a</th>\n",
       "      <td>34</td>\n",
       "      <td>29</td>\n",
       "      <td>11</td>\n",
       "      <td>31</td>\n",
       "    </tr>\n",
       "    <tr>\n",
       "      <th>b</th>\n",
       "      <td>20</td>\n",
       "      <td>34</td>\n",
       "      <td>35</td>\n",
       "      <td>2</td>\n",
       "    </tr>\n",
       "    <tr>\n",
       "      <th>c</th>\n",
       "      <td>27</td>\n",
       "      <td>49</td>\n",
       "      <td>14</td>\n",
       "      <td>17</td>\n",
       "    </tr>\n",
       "    <tr>\n",
       "      <th>d</th>\n",
       "      <td>13</td>\n",
       "      <td>48</td>\n",
       "      <td>20</td>\n",
       "      <td>10</td>\n",
       "    </tr>\n",
       "  </tbody>\n",
       "</table>\n",
       "</div>"
      ],
      "text/plain": [
       "   val1  val2  val3  val4\n",
       "a    34    29    11    31\n",
       "b    20    34    35     2\n",
       "c    27    49    14    17\n",
       "d    13    48    20    10"
      ]
     },
     "execution_count": 9,
     "metadata": {},
     "output_type": "execute_result"
    }
   ],
   "source": [
    "df"
   ]
  },
  {
   "cell_type": "markdown",
   "id": "0d047f80-f5ae-4d2e-b9be-cceba0fe9ee1",
   "metadata": {},
   "source": [
    "## CREATING A DATAFRAME USING A DICTIONARY"
   ]
  },
  {
   "cell_type": "code",
   "execution_count": 10,
   "id": "b3fc57c6-2aa4-42e2-a970-fb958135d30b",
   "metadata": {},
   "outputs": [],
   "source": [
    "x=np.random.randint(0,50,size=6)\n"
   ]
  },
  {
   "cell_type": "code",
   "execution_count": 11,
   "id": "ad01a688-5f0f-4b9b-ab56-cbf1038845b5",
   "metadata": {},
   "outputs": [],
   "source": [
    "a=np.random.randint(0,50,size=6)\n",
    "b=np.random.randint(0,50,size=6)\n",
    "c=np.random.randint(0,50,size=6)\n"
   ]
  },
  {
   "cell_type": "code",
   "execution_count": 12,
   "id": "ad0406f2-c589-43f7-af78-390f759ef5da",
   "metadata": {},
   "outputs": [],
   "source": [
    "dict={\"val1\":x,\"val2\":a,\"val3\":b,\"val4\":c}"
   ]
  },
  {
   "cell_type": "code",
   "execution_count": 13,
   "id": "863c933b-c55e-473f-99dd-9ea19c550f0f",
   "metadata": {},
   "outputs": [
    {
     "data": {
      "text/plain": [
       "{'val1': array([49, 34, 48, 27, 39, 19], dtype=int32),\n",
       " 'val2': array([10, 23,  6, 47, 12, 38], dtype=int32),\n",
       " 'val3': array([49, 10, 37, 43,  9, 40], dtype=int32),\n",
       " 'val4': array([44, 18, 24, 36, 22, 24], dtype=int32)}"
      ]
     },
     "execution_count": 13,
     "metadata": {},
     "output_type": "execute_result"
    }
   ],
   "source": [
    "dict\n"
   ]
  },
  {
   "cell_type": "code",
   "execution_count": 14,
   "id": "da66ba28-89d4-4baa-96e1-44e4a08eddd5",
   "metadata": {},
   "outputs": [],
   "source": [
    "df=pd.DataFrame(dict)"
   ]
  },
  {
   "cell_type": "code",
   "execution_count": 15,
   "id": "b2b962bf-39b9-4392-b975-59423bd1efa8",
   "metadata": {},
   "outputs": [
    {
     "data": {
      "text/html": [
       "<div>\n",
       "<style scoped>\n",
       "    .dataframe tbody tr th:only-of-type {\n",
       "        vertical-align: middle;\n",
       "    }\n",
       "\n",
       "    .dataframe tbody tr th {\n",
       "        vertical-align: top;\n",
       "    }\n",
       "\n",
       "    .dataframe thead th {\n",
       "        text-align: right;\n",
       "    }\n",
       "</style>\n",
       "<table border=\"1\" class=\"dataframe\">\n",
       "  <thead>\n",
       "    <tr style=\"text-align: right;\">\n",
       "      <th></th>\n",
       "      <th>val1</th>\n",
       "      <th>val2</th>\n",
       "      <th>val3</th>\n",
       "      <th>val4</th>\n",
       "    </tr>\n",
       "  </thead>\n",
       "  <tbody>\n",
       "    <tr>\n",
       "      <th>0</th>\n",
       "      <td>49</td>\n",
       "      <td>10</td>\n",
       "      <td>49</td>\n",
       "      <td>44</td>\n",
       "    </tr>\n",
       "    <tr>\n",
       "      <th>1</th>\n",
       "      <td>34</td>\n",
       "      <td>23</td>\n",
       "      <td>10</td>\n",
       "      <td>18</td>\n",
       "    </tr>\n",
       "    <tr>\n",
       "      <th>2</th>\n",
       "      <td>48</td>\n",
       "      <td>6</td>\n",
       "      <td>37</td>\n",
       "      <td>24</td>\n",
       "    </tr>\n",
       "    <tr>\n",
       "      <th>3</th>\n",
       "      <td>27</td>\n",
       "      <td>47</td>\n",
       "      <td>43</td>\n",
       "      <td>36</td>\n",
       "    </tr>\n",
       "    <tr>\n",
       "      <th>4</th>\n",
       "      <td>39</td>\n",
       "      <td>12</td>\n",
       "      <td>9</td>\n",
       "      <td>22</td>\n",
       "    </tr>\n",
       "    <tr>\n",
       "      <th>5</th>\n",
       "      <td>19</td>\n",
       "      <td>38</td>\n",
       "      <td>40</td>\n",
       "      <td>24</td>\n",
       "    </tr>\n",
       "  </tbody>\n",
       "</table>\n",
       "</div>"
      ],
      "text/plain": [
       "   val1  val2  val3  val4\n",
       "0    49    10    49    44\n",
       "1    34    23    10    18\n",
       "2    48     6    37    24\n",
       "3    27    47    43    36\n",
       "4    39    12     9    22\n",
       "5    19    38    40    24"
      ]
     },
     "execution_count": 15,
     "metadata": {},
     "output_type": "execute_result"
    }
   ],
   "source": [
    "df"
   ]
  },
  {
   "cell_type": "code",
   "execution_count": null,
   "id": "21c1ad56-e106-4d55-b0a7-e279aec9e844",
   "metadata": {},
   "outputs": [],
   "source": []
  }
 ],
 "metadata": {
  "kernelspec": {
   "display_name": "Python 3 (ipykernel)",
   "language": "python",
   "name": "python3"
  },
  "language_info": {
   "codemirror_mode": {
    "name": "ipython",
    "version": 3
   },
   "file_extension": ".py",
   "mimetype": "text/x-python",
   "name": "python",
   "nbconvert_exporter": "python",
   "pygments_lexer": "ipython3",
   "version": "3.13.0"
  }
 },
 "nbformat": 4,
 "nbformat_minor": 5
}
