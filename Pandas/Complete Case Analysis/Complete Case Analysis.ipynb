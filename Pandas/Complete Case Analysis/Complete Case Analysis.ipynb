{
 "cells": [
  {
   "cell_type": "code",
   "execution_count": 1,
   "id": "676765e2-2157-4ae7-9e7f-a61c2ee57697",
   "metadata": {},
   "outputs": [],
   "source": [
    "import numpy as np\n",
    "import pandas as pd\n",
    "import matplotlib.pyplot as plt"
   ]
  },
  {
   "cell_type": "code",
   "execution_count": 2,
   "id": "83be1939-b405-4596-944f-c6759f55b289",
   "metadata": {},
   "outputs": [
    {
     "data": {
      "text/html": [
       "<div>\n",
       "<style scoped>\n",
       "    .dataframe tbody tr th:only-of-type {\n",
       "        vertical-align: middle;\n",
       "    }\n",
       "\n",
       "    .dataframe tbody tr th {\n",
       "        vertical-align: top;\n",
       "    }\n",
       "\n",
       "    .dataframe thead th {\n",
       "        text-align: right;\n",
       "    }\n",
       "</style>\n",
       "<table border=\"1\" class=\"dataframe\">\n",
       "  <thead>\n",
       "    <tr style=\"text-align: right;\">\n",
       "      <th></th>\n",
       "      <th>enrollee_id</th>\n",
       "      <th>city</th>\n",
       "      <th>city_development_index</th>\n",
       "      <th>gender</th>\n",
       "      <th>relevent_experience</th>\n",
       "      <th>enrolled_university</th>\n",
       "      <th>education_level</th>\n",
       "      <th>major_discipline</th>\n",
       "      <th>experience</th>\n",
       "      <th>company_size</th>\n",
       "      <th>company_type</th>\n",
       "      <th>training_hours</th>\n",
       "      <th>target</th>\n",
       "    </tr>\n",
       "  </thead>\n",
       "  <tbody>\n",
       "    <tr>\n",
       "      <th>0</th>\n",
       "      <td>8949</td>\n",
       "      <td>city_103</td>\n",
       "      <td>0.920</td>\n",
       "      <td>Male</td>\n",
       "      <td>Has relevent experience</td>\n",
       "      <td>no_enrollment</td>\n",
       "      <td>Graduate</td>\n",
       "      <td>STEM</td>\n",
       "      <td>20.0</td>\n",
       "      <td>NaN</td>\n",
       "      <td>NaN</td>\n",
       "      <td>36.0</td>\n",
       "      <td>1.0</td>\n",
       "    </tr>\n",
       "    <tr>\n",
       "      <th>1</th>\n",
       "      <td>29725</td>\n",
       "      <td>city_40</td>\n",
       "      <td>0.776</td>\n",
       "      <td>Male</td>\n",
       "      <td>No relevent experience</td>\n",
       "      <td>no_enrollment</td>\n",
       "      <td>Graduate</td>\n",
       "      <td>STEM</td>\n",
       "      <td>15.0</td>\n",
       "      <td>50-99</td>\n",
       "      <td>Pvt Ltd</td>\n",
       "      <td>47.0</td>\n",
       "      <td>0.0</td>\n",
       "    </tr>\n",
       "    <tr>\n",
       "      <th>2</th>\n",
       "      <td>11561</td>\n",
       "      <td>city_21</td>\n",
       "      <td>0.624</td>\n",
       "      <td>NaN</td>\n",
       "      <td>No relevent experience</td>\n",
       "      <td>Full time course</td>\n",
       "      <td>Graduate</td>\n",
       "      <td>STEM</td>\n",
       "      <td>5.0</td>\n",
       "      <td>NaN</td>\n",
       "      <td>NaN</td>\n",
       "      <td>83.0</td>\n",
       "      <td>0.0</td>\n",
       "    </tr>\n",
       "    <tr>\n",
       "      <th>3</th>\n",
       "      <td>33241</td>\n",
       "      <td>city_115</td>\n",
       "      <td>0.789</td>\n",
       "      <td>NaN</td>\n",
       "      <td>No relevent experience</td>\n",
       "      <td>NaN</td>\n",
       "      <td>Graduate</td>\n",
       "      <td>Business Degree</td>\n",
       "      <td>0.0</td>\n",
       "      <td>NaN</td>\n",
       "      <td>Pvt Ltd</td>\n",
       "      <td>52.0</td>\n",
       "      <td>1.0</td>\n",
       "    </tr>\n",
       "    <tr>\n",
       "      <th>4</th>\n",
       "      <td>666</td>\n",
       "      <td>city_162</td>\n",
       "      <td>0.767</td>\n",
       "      <td>Male</td>\n",
       "      <td>Has relevent experience</td>\n",
       "      <td>no_enrollment</td>\n",
       "      <td>Masters</td>\n",
       "      <td>STEM</td>\n",
       "      <td>20.0</td>\n",
       "      <td>50-99</td>\n",
       "      <td>Funded Startup</td>\n",
       "      <td>8.0</td>\n",
       "      <td>0.0</td>\n",
       "    </tr>\n",
       "  </tbody>\n",
       "</table>\n",
       "</div>"
      ],
      "text/plain": [
       "   enrollee_id      city  city_development_index gender  \\\n",
       "0         8949  city_103                   0.920   Male   \n",
       "1        29725   city_40                   0.776   Male   \n",
       "2        11561   city_21                   0.624    NaN   \n",
       "3        33241  city_115                   0.789    NaN   \n",
       "4          666  city_162                   0.767   Male   \n",
       "\n",
       "       relevent_experience enrolled_university education_level  \\\n",
       "0  Has relevent experience       no_enrollment        Graduate   \n",
       "1   No relevent experience       no_enrollment        Graduate   \n",
       "2   No relevent experience    Full time course        Graduate   \n",
       "3   No relevent experience                 NaN        Graduate   \n",
       "4  Has relevent experience       no_enrollment         Masters   \n",
       "\n",
       "  major_discipline  experience company_size    company_type  training_hours  \\\n",
       "0             STEM        20.0          NaN             NaN            36.0   \n",
       "1             STEM        15.0        50-99         Pvt Ltd            47.0   \n",
       "2             STEM         5.0          NaN             NaN            83.0   \n",
       "3  Business Degree         0.0          NaN         Pvt Ltd            52.0   \n",
       "4             STEM        20.0        50-99  Funded Startup             8.0   \n",
       "\n",
       "   target  \n",
       "0     1.0  \n",
       "1     0.0  \n",
       "2     0.0  \n",
       "3     1.0  \n",
       "4     0.0  "
      ]
     },
     "execution_count": 2,
     "metadata": {},
     "output_type": "execute_result"
    }
   ],
   "source": [
    "df = pd.read_csv('data_science_job.csv')\n",
    "df.head()"
   ]
  },
  {
   "cell_type": "code",
   "execution_count": 7,
   "id": "609e3407-3b85-49a4-b86b-e8816eb5d42b",
   "metadata": {},
   "outputs": [
    {
     "data": {
      "text/plain": [
       "enrollee_id                0.000000\n",
       "city                       0.000000\n",
       "city_development_index     2.500261\n",
       "gender                    23.530640\n",
       "relevent_experience        0.000000\n",
       "enrolled_university        2.014824\n",
       "education_level            2.401086\n",
       "major_discipline          14.683161\n",
       "experience                 0.339284\n",
       "company_size              30.994885\n",
       "company_type              32.049274\n",
       "training_hours             3.998330\n",
       "target                     0.000000\n",
       "dtype: float64"
      ]
     },
     "execution_count": 7,
     "metadata": {},
     "output_type": "execute_result"
    }
   ],
   "source": [
    "df.isnull().mean()*100"
   ]
  },
  {
   "cell_type": "code",
   "execution_count": 8,
   "id": "7baf7cf6-d0e9-484e-9481-0207013f565c",
   "metadata": {},
   "outputs": [
    {
     "data": {
      "text/plain": [
       "(19158, 13)"
      ]
     },
     "execution_count": 8,
     "metadata": {},
     "output_type": "execute_result"
    }
   ],
   "source": [
    "df.shape"
   ]
  },
  {
   "cell_type": "code",
   "execution_count": 9,
   "id": "145b992e-4a11-4e19-8d2f-cc65c90fe450",
   "metadata": {},
   "outputs": [
    {
     "data": {
      "text/plain": [
       "['city_development_index',\n",
       " 'enrolled_university',\n",
       " 'education_level',\n",
       " 'experience',\n",
       " 'training_hours']"
      ]
     },
     "execution_count": 9,
     "metadata": {},
     "output_type": "execute_result"
    }
   ],
   "source": [
    "cols = [var for var in df.columns if df[var].isnull().mean() < 0.05 and df[var].isnull().mean() > 0]\n",
    "cols"
   ]
  },
  {
   "cell_type": "code",
   "execution_count": 10,
   "id": "532f33a0-55ec-4d60-b460-eaecb4e35917",
   "metadata": {},
   "outputs": [
    {
     "data": {
      "text/html": [
       "<div>\n",
       "<style scoped>\n",
       "    .dataframe tbody tr th:only-of-type {\n",
       "        vertical-align: middle;\n",
       "    }\n",
       "\n",
       "    .dataframe tbody tr th {\n",
       "        vertical-align: top;\n",
       "    }\n",
       "\n",
       "    .dataframe thead th {\n",
       "        text-align: right;\n",
       "    }\n",
       "</style>\n",
       "<table border=\"1\" class=\"dataframe\">\n",
       "  <thead>\n",
       "    <tr style=\"text-align: right;\">\n",
       "      <th></th>\n",
       "      <th>city_development_index</th>\n",
       "      <th>enrolled_university</th>\n",
       "      <th>education_level</th>\n",
       "      <th>experience</th>\n",
       "      <th>training_hours</th>\n",
       "    </tr>\n",
       "  </thead>\n",
       "  <tbody>\n",
       "    <tr>\n",
       "      <th>6491</th>\n",
       "      <td>0.624</td>\n",
       "      <td>no_enrollment</td>\n",
       "      <td>Graduate</td>\n",
       "      <td>7.0</td>\n",
       "      <td>39.0</td>\n",
       "    </tr>\n",
       "    <tr>\n",
       "      <th>5237</th>\n",
       "      <td>0.939</td>\n",
       "      <td>no_enrollment</td>\n",
       "      <td>Graduate</td>\n",
       "      <td>20.0</td>\n",
       "      <td>25.0</td>\n",
       "    </tr>\n",
       "    <tr>\n",
       "      <th>12834</th>\n",
       "      <td>0.920</td>\n",
       "      <td>no_enrollment</td>\n",
       "      <td>Graduate</td>\n",
       "      <td>20.0</td>\n",
       "      <td>25.0</td>\n",
       "    </tr>\n",
       "    <tr>\n",
       "      <th>16490</th>\n",
       "      <td>0.762</td>\n",
       "      <td>no_enrollment</td>\n",
       "      <td>Graduate</td>\n",
       "      <td>9.0</td>\n",
       "      <td>NaN</td>\n",
       "    </tr>\n",
       "    <tr>\n",
       "      <th>12585</th>\n",
       "      <td>0.698</td>\n",
       "      <td>Full time course</td>\n",
       "      <td>Graduate</td>\n",
       "      <td>2.0</td>\n",
       "      <td>28.0</td>\n",
       "    </tr>\n",
       "  </tbody>\n",
       "</table>\n",
       "</div>"
      ],
      "text/plain": [
       "       city_development_index enrolled_university education_level  experience  \\\n",
       "6491                    0.624       no_enrollment        Graduate         7.0   \n",
       "5237                    0.939       no_enrollment        Graduate        20.0   \n",
       "12834                   0.920       no_enrollment        Graduate        20.0   \n",
       "16490                   0.762       no_enrollment        Graduate         9.0   \n",
       "12585                   0.698    Full time course        Graduate         2.0   \n",
       "\n",
       "       training_hours  \n",
       "6491             39.0  \n",
       "5237             25.0  \n",
       "12834            25.0  \n",
       "16490             NaN  \n",
       "12585            28.0  "
      ]
     },
     "execution_count": 10,
     "metadata": {},
     "output_type": "execute_result"
    }
   ],
   "source": [
    "df[cols].sample(5)"
   ]
  },
  {
   "cell_type": "code",
   "execution_count": 11,
   "id": "bec3de1b-e82d-4947-8452-5c8e0b67a8e8",
   "metadata": {},
   "outputs": [
    {
     "data": {
      "text/plain": [
       "education_level\n",
       "Graduate          11598\n",
       "Masters            4361\n",
       "High School        2017\n",
       "Phd                 414\n",
       "Primary School      308\n",
       "Name: count, dtype: int64"
      ]
     },
     "execution_count": 11,
     "metadata": {},
     "output_type": "execute_result"
    }
   ],
   "source": [
    "df['education_level'].value_counts()"
   ]
  },
  {
   "cell_type": "code",
   "execution_count": 12,
   "id": "0f2f0751-eb9c-46b1-98eb-ffea43909521",
   "metadata": {},
   "outputs": [
    {
     "data": {
      "text/plain": [
       "0.8968577095730244"
      ]
     },
     "execution_count": 12,
     "metadata": {},
     "output_type": "execute_result"
    }
   ],
   "source": [
    "len(df[cols].dropna()) / len(df)"
   ]
  },
  {
   "cell_type": "code",
   "execution_count": 13,
   "id": "1d1c2a2e-cf66-4285-86c2-511e06a7e014",
   "metadata": {},
   "outputs": [
    {
     "data": {
      "text/plain": [
       "((19158, 13), (17182, 5))"
      ]
     },
     "execution_count": 13,
     "metadata": {},
     "output_type": "execute_result"
    }
   ],
   "source": [
    " new_df = df[cols].dropna()\n",
    "df.shape, new_df.shape"
   ]
  },
  {
   "cell_type": "code",
   "execution_count": 14,
   "id": "f1a5ead1-cb70-4e96-ad5f-08166394d2c8",
   "metadata": {},
   "outputs": [
    {
     "data": {
      "image/png": "[encoded data removed]",
      "text/plain": [
       "<Figure size 1200x1200 with 4 Axes>"
      ]
     },
     "metadata": {},
     "output_type": "display_data"
    }
   ],
   "source": [
    "new_df.hist(bins=50, density=True, figsize=(12, 12))\n",
    "plt.show()"
   ]
  },
  {
   "cell_type": "code",
   "execution_count": 17,
   "id": "8bc890f5-7069-434e-b110-f5879b38b403",
   "metadata": {},
   "outputs": [
    {
     "data": {
      "text/plain": [
       "<Axes: >"
      ]
     },
     "execution_count": 17,
     "metadata": {},
     "output_type": "execute_result"
    },
    {
     "data": {
      "image/png": "[encoded data removed]",
      "text/plain": [
       "<Figure size 640x480 with 1 Axes>"
      ]
     },
     "metadata": {},
     "output_type": "display_data"
    }
   ],
   "source": [
    "fig = plt.figure()\n",
    "ax = fig.add_subplot(111)\n",
    "\n",
    "# original data\n",
    "df['training_hours'].hist(bins=50, ax=ax, density=True, color='black')\n",
    "\n",
    "# data after cca, the argument alpha makes the color transparent, so we can\n",
    "# see the overlay of the 2 distributions\n",
    "new_df['training_hours'].hist(bins=50, ax=ax, color='yellow', density=True, alpha=0.8)"
   ]
  },
  {
   "cell_type": "code",
   "execution_count": 21,
   "id": "7e49e68b-09a7-471e-86ad-013008ceeafb",
   "metadata": {},
   "outputs": [
    {
     "data": {
      "text/plain": [
       "<Axes: ylabel='Density'>"
      ]
     },
     "execution_count": 21,
     "metadata": {},
     "output_type": "execute_result"
    },
    {
     "data": {
      "image/png": "[encoded data removed]",
      "text/plain": [
       "<Figure size 640x480 with 1 Axes>"
      ]
     },
     "metadata": {},
     "output_type": "display_data"
    }
   ],
   "source": [
    "fig = plt.figure()\n",
    "ax = fig.add_subplot(111)\n",
    "\n",
    "# original data\n",
    "df['training_hours'].plot.density(color='red')\n",
    "\n",
    "# data after cca\n",
    "new_df['training_hours'].plot.density(color='green')"
   ]
  },
  {
   "cell_type": "code",
   "execution_count": 22,
   "id": "0b5cf861-0287-40f1-92a5-bac04854133c",
   "metadata": {},
   "outputs": [
    {
     "data": {
      "text/html": [
       "<div>\n",
       "<style scoped>\n",
       "    .dataframe tbody tr th:only-of-type {\n",
       "        vertical-align: middle;\n",
       "    }\n",
       "\n",
       "    .dataframe tbody tr th {\n",
       "        vertical-align: top;\n",
       "    }\n",
       "\n",
       "    .dataframe thead th {\n",
       "        text-align: right;\n",
       "    }\n",
       "</style>\n",
       "<table border=\"1\" class=\"dataframe\">\n",
       "  <thead>\n",
       "    <tr style=\"text-align: right;\">\n",
       "      <th></th>\n",
       "      <th>original</th>\n",
       "      <th>cca</th>\n",
       "    </tr>\n",
       "    <tr>\n",
       "      <th>enrolled_university</th>\n",
       "      <th></th>\n",
       "      <th></th>\n",
       "    </tr>\n",
       "  </thead>\n",
       "  <tbody>\n",
       "    <tr>\n",
       "      <th>no_enrollment</th>\n",
       "      <td>0.721213</td>\n",
       "      <td>0.735188</td>\n",
       "    </tr>\n",
       "    <tr>\n",
       "      <th>Full time course</th>\n",
       "      <td>0.196106</td>\n",
       "      <td>0.200733</td>\n",
       "    </tr>\n",
       "    <tr>\n",
       "      <th>Part time course</th>\n",
       "      <td>0.062533</td>\n",
       "      <td>0.064079</td>\n",
       "    </tr>\n",
       "  </tbody>\n",
       "</table>\n",
       "</div>"
      ],
      "text/plain": [
       "                     original       cca\n",
       "enrolled_university                    \n",
       "no_enrollment        0.721213  0.735188\n",
       "Full time course     0.196106  0.200733\n",
       "Part time course     0.062533  0.064079"
      ]
     },
     "execution_count": 22,
     "metadata": {},
     "output_type": "execute_result"
    }
   ],
   "source": [
    "temp = pd.concat([\n",
    "            # percentage of observations per category, original data\n",
    "            df['enrolled_university'].value_counts() / len(df),\n",
    "\n",
    "            # percentage of observations per category, cca data\n",
    "            new_df['enrolled_university'].value_counts() / len(new_df)\n",
    "        ],\n",
    "        axis=1)\n",
    "\n",
    "# add column names\n",
    "temp.columns = ['original', 'cca']\n",
    "\n",
    "temp"
   ]
  },
  {
   "cell_type": "code",
   "execution_count": 23,
   "id": "c65a2bcd-9b6d-4e29-8440-552bdbefdb4c",
   "metadata": {},
   "outputs": [
    {
     "data": {
      "text/html": [
       "<div>\n",
       "<style scoped>\n",
       "    .dataframe tbody tr th:only-of-type {\n",
       "        vertical-align: middle;\n",
       "    }\n",
       "\n",
       "    .dataframe tbody tr th {\n",
       "        vertical-align: top;\n",
       "    }\n",
       "\n",
       "    .dataframe thead th {\n",
       "        text-align: right;\n",
       "    }\n",
       "</style>\n",
       "<table border=\"1\" class=\"dataframe\">\n",
       "  <thead>\n",
       "    <tr style=\"text-align: right;\">\n",
       "      <th></th>\n",
       "      <th>original</th>\n",
       "      <th>cca</th>\n",
       "    </tr>\n",
       "    <tr>\n",
       "      <th>education_level</th>\n",
       "      <th></th>\n",
       "      <th></th>\n",
       "    </tr>\n",
       "  </thead>\n",
       "  <tbody>\n",
       "    <tr>\n",
       "      <th>Graduate</th>\n",
       "      <td>0.605387</td>\n",
       "      <td>0.619835</td>\n",
       "    </tr>\n",
       "    <tr>\n",
       "      <th>Masters</th>\n",
       "      <td>0.227633</td>\n",
       "      <td>0.234082</td>\n",
       "    </tr>\n",
       "    <tr>\n",
       "      <th>High School</th>\n",
       "      <td>0.105282</td>\n",
       "      <td>0.107380</td>\n",
       "    </tr>\n",
       "    <tr>\n",
       "      <th>Phd</th>\n",
       "      <td>0.021610</td>\n",
       "      <td>0.022116</td>\n",
       "    </tr>\n",
       "    <tr>\n",
       "      <th>Primary School</th>\n",
       "      <td>0.016077</td>\n",
       "      <td>0.016587</td>\n",
       "    </tr>\n",
       "  </tbody>\n",
       "</table>\n",
       "</div>"
      ],
      "text/plain": [
       "                 original       cca\n",
       "education_level                    \n",
       "Graduate         0.605387  0.619835\n",
       "Masters          0.227633  0.234082\n",
       "High School      0.105282  0.107380\n",
       "Phd              0.021610  0.022116\n",
       "Primary School   0.016077  0.016587"
      ]
     },
     "execution_count": 23,
     "metadata": {},
     "output_type": "execute_result"
    }
   ],
   "source": [
    "temp = pd.concat([\n",
    "            # percentage of observations per category, original data\n",
    "            df['education_level'].value_counts() / len(df),\n",
    "\n",
    "            # percentage of observations per category, cca data\n",
    "            new_df['education_level'].value_counts() / len(new_df)\n",
    "        ],\n",
    "        axis=1)\n",
    "\n",
    "# add column names\n",
    "temp.columns = ['original', 'cca']\n",
    "\n",
    "temp"
   ]
  },
  {
   "cell_type": "code",
   "execution_count": null,
   "id": "3f46be7e-55a4-4390-b6f3-86db23cc38d6",
   "metadata": {},
   "outputs": [],
   "source": []
  }
 ],
 "metadata": {
  "kernelspec": {
   "display_name": "Python 3 (ipykernel)",
   "language": "python",
   "name": "python3"
  },
  "language_info": {
   "codemirror_mode": {
    "name": "ipython",
    "version": 3
   },
   "file_extension": ".py",
   "mimetype": "text/x-python",
   "name": "python",
   "nbconvert_exporter": "python",
   "pygments_lexer": "ipython3",
   "version": "3.13.0"
  }
 },
 "nbformat": 4,
 "nbformat_minor": 5
}
